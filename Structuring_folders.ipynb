{
 "cells": [
  {
   "cell_type": "markdown",
   "metadata": {},
   "source": [
    "# Pseudocode\n",
    "\n"
   ]
  },
  {
   "cell_type": "markdown",
   "metadata": {},
   "source": [
    "###  Introductie\n",
    "\n",
    "Het doel van dit script is om een programma te ontwerpen dat digitale documenten kan ordenen. \n",
    "\n",
    "Hierbij is het van belang dat de gebruiker metadata kan toevoegen wat leidend is voor de ordening. \n",
    "\n",
    "\n",
    "\n"
   ]
  },
  {
   "cell_type": "markdown",
   "metadata": {},
   "source": [
    "### Stappen/code\n",
    "\n",
    "1. Maak een folder waar de gebruiker de documenten in kan zetten die geordend moeten worden\n",
    "2. Laad de tekst die in het document staat in, in Python. In dit geval gaat het om het document: Factuur 3354134623 van 29-11-2022\n",
    "    1. Allereerst probeer ik de data 1 op 1 te kopieren uit het document naar een word/csv of txt file. Ik kan dit namelijk met de hand wel doen. Dus de file is geschikt om data uit te halen. \n",
    "3. Gebruik een zoekfunctie om te zoeken naar specifieke metadata:  \n",
    "    1. Als start zoeken op datum en deze in een variable stoppen\n",
    "    2. Kijken of we kunnen zoeken op woorden waar we een \"joker\" gebruiken \n",
    "    3. Kunnen wij bijvoorbeeld loopen door een map met facturen en de totale prijs weergeven van alle kosten. \n",
    "4. Gebruik een input functie zodat de user kan bepalen welke metadata wordt gekoppeld aan het document. \n",
    "    1. Zoek uit welke taal het beste is voor een GUI. Kunnen we een interactie maken tussen de GUI en de documenten die geordend moeten worden?\n",
    "    2. Let op hoe lang de naam van een folder word. \n",
    "5. **Github**\n",
    "    1. Zoek uit hoe Github werkt in general. \n",
    "    2. Hoe kunnen wij het beste python scripts delen in Github. \n",
    "    3. Welke functies zijn allemaal handig om te gebruiken voor toekomstige projecten?\n",
    "6. Wat is er al op de markt aan software voor het ordenen van folders of koppelen van metadata. \n",
    "    1. Wat kunnen wij hier van leren? Welke programmeertaal wordt hiervoor gebruikt? \n",
    "    2. Waar is vraag naar op de markt waar wij naartoe kunnen werken?\n",
    "    3. Hoe zou het verdienmodel eruit komen te zien? "
   ]
  },
  {
   "cell_type": "code",
   "execution_count": 4,
   "metadata": {},
   "outputs": [],
   "source": [
    "# fhand = open(\"C:\\\\Users\\\\User\\\\OneDrive\\\\Documents\\\\Programmeren\\\\Python Scripts\\\\Input_folder\\\\mbox-short.txt\")\n",
    "\n",
    "\n",
    "# for line in fhand:\n",
    "#     line = line.rstrip()\n",
    "#     if line.startswith(\"From:\"):\n",
    "#         print(line)"
   ]
  },
  {
   "cell_type": "code",
   "execution_count": 48,
   "metadata": {},
   "outputs": [],
   "source": [
    "\n",
    "# importing required modules\n",
    "import PyPDF2 as pdf\n",
    "\n",
    "  \n",
    "# creating a pdf file object\n",
    "pdfFileObj = open(\"C:\\\\Users\\\\User\\\\OneDrive\\\\Documents\\\\Programmeren\\\\Python Scripts\\\\Input_folder\\\\Test01.pdf\", 'rb')\n",
    "  \n",
    "# creating a pdf reader object\n",
    "pdfReader = PdfReader(pdfFileObj)\n",
    "  \n",
    "# printing number of pages in pdf file\n",
    "#print(len(pdfReader.pages))\n",
    "  \n",
    "# creating a page object\n",
    "pageObj = pdfReader.pages[0]\n",
    "\n",
    "\n",
    "for line in pageObj:\n",
    "    #line = line.rstrip()\n",
    "    if line.startswith(\"Mevrouw\"):\n",
    "        print(\"found\")\n",
    "  \n",
    "# extracting text from page\n",
    "\n",
    "#print(pageObj.extract_text())\n",
    "  \n",
    "#closing the pdf file object\n",
    "pdfFileObj.close()"
   ]
  },
  {
   "cell_type": "code",
   "execution_count": 52,
   "metadata": {},
   "outputs": [
    {
     "name": "stdout",
     "output_type": "stream",
     "text": [
      "1\n",
      "/Contents\n",
      "/BleedBox\n",
      "/Type\n",
      "/Resources\n",
      "/CropBox\n",
      "/Annots\n",
      "/Parent\n",
      "/MediaBox\n",
      "/TrimBox\n"
     ]
    }
   ],
   "source": [
    "\n",
    "# To test something **********************************************************************************************************\n",
    "# importing required modules\n",
    "import PyPDF2 as pdf\n",
    "\n",
    "  \n",
    "# creating a pdf file object\n",
    "pdfFileObj = open(\"C:\\\\Users\\\\User\\\\OneDrive\\\\Documents\\\\Programmeren\\\\Python Scripts\\\\Input_folder\\\\Test01.pdf\", 'rb')\n",
    "  \n",
    "# creating a pdf reader object\n",
    "pdfReader = PdfReader(pdfFileObj)\n",
    "  \n",
    "# printing number of pages in pdf file\n",
    "print(len(pdfReader.pages))\n",
    "  \n",
    "# creating a page object\n",
    "pageObj = pdfReader.pages[0]\n",
    "keys = {}\n",
    "\n",
    "\n",
    "\n",
    "\n",
    "for word in pageObj:\n",
    "    #word = word.strip()\n",
    "    print(word)\n",
    "    #if word ==\"Mevrouw\":\n",
    "        #print(\"found\")\n",
    "  \n",
    "# extracting text from page\n",
    "\n",
    "#print(pageObj.extract_text())\n",
    "  \n",
    "#closing the pdf file object\n",
    "pdfFileObj.close()"
   ]
  },
  {
   "cell_type": "code",
   "execution_count": 37,
   "metadata": {},
   "outputs": [],
   "source": [
    "import PyPDF2\n",
    "\n",
    "# Open the PDF file in read-binary mode\n",
    "with open('Test01.pdf', 'rb') as pdf_file:\n",
    "    # Create a PDF reader object\n",
    "    pdf_reader = PdfReader(pdf_file)\n",
    "    \n",
    "    # Loop through each page in the PDF document\n",
    "    for page_num in range(len(pdfReader.pages)):\n",
    "        # Get the current page object\n",
    "        page = reader.pages[page_num]\n",
    "        #selected_page = reader.pages[i]\n",
    "        \n",
    "        # Extract the text from the current page\n",
    "        page_text = page.extract_text()\n",
    "        \n",
    "        # Check if the word is in the page text\n",
    "        if 'Mevrouw' in page_text:\n",
    "            print('The word was found on page', page_num + 1)"
   ]
  },
  {
   "attachments": {},
   "cell_type": "markdown",
   "metadata": {},
   "source": [
    "### How to read a PDF file in Python\n",
    "\n",
    "* With PyPDF2 you can open and read a pdf file\n",
    "* NB: The ...File... class has been deprecated\n",
    "    * eg use PdfReader instead of PdfFileReader"
   ]
  },
  {
   "cell_type": "code",
   "execution_count": 6,
   "metadata": {},
   "outputs": [
    {
     "name": "stdout",
     "output_type": "stream",
     "text": [
      "{'/ModDate': \"D:20221208203703+01'00'\", '/CreationDate': \"D:20221208203703+01'00'\", '/Producer': 'iText 2.1.7 by 1T3XT'}\n"
     ]
    }
   ],
   "source": [
    "# Import PyPDF2 and its functions reader and writer\n",
    "\n",
    "import PyPDF2 as pdf\n",
    "from PyPDF2 import PdfReader,PdfWriter\n",
    "\n",
    "#Two ways to open a file: \n",
    "    # Either via specific pathway or just the name of the file if it is in the same folder\n",
    "\n",
    "\n",
    "# pdfFileObj = open(\"C:\\\\Users\\\\User\\\\OneDrive\\\\Documents\\\\Programmeren\\\\Python Scripts\\\\Input_folder\\\\Test01.pdf\", 'rb')\n",
    "pdfFileObj = open(\"Test01.pdf\",\"rb\")\n",
    "\n",
    "reader = PdfReader(pdfFileObj)\n",
    "info = reader.metadata\n",
    "print(info)\n",
    "\n",
    "#you can extract text from the pages. If you add print in front of it it will show it in portrait mode. \n",
    "\n",
    "# reader.pages[0].extract_text()\n",
    "#print(reader.pages[0].extract_text())"
   ]
  },
  {
   "cell_type": "code",
   "execution_count": 7,
   "metadata": {},
   "outputs": [
    {
     "name": "stdout",
     "output_type": "stream",
     "text": [
      "{'/ModDate': \"D:20141230081845-05'00'\", '/Creator': 'PDFMerge! (http://www.pdfmerge.com)', '/CreationDate': \"D:20141230081845-05'00'\", '/Producer': 'iText® 5.5.2 ©2000-2014 iText Group NV (ONLINE PDF SERVICES; licensed version)'}\n"
     ]
    }
   ],
   "source": [
    "# Get metadata from PDF\n",
    "\n",
    "pdfFileObj = open(\"Test03.pdf\",\"rb\")\n",
    "\n",
    "reader = PdfReader(pdfFileObj)\n",
    "info = reader.metadata\n",
    "print(info)"
   ]
  },
  {
   "cell_type": "code",
   "execution_count": 8,
   "metadata": {},
   "outputs": [],
   "source": [
    "### A function to get meta data\n",
    "\n",
    "def get_pdf_metadata(pdf_path):\n",
    "    with open(pdf_path,\"rb\") as f: \n",
    "        reader = PdfReader(f)\n",
    "        info = reader.metadata\n",
    "        number_of_pages = len(reader.pages)\n",
    "    return info\n",
    "    print(number_of_pages)"
   ]
  },
  {
   "cell_type": "code",
   "execution_count": 9,
   "metadata": {},
   "outputs": [
    {
     "data": {
      "text/plain": [
       "{'/ModDate': \"D:20221208203703+01'00'\",\n",
       " '/CreationDate': \"D:20221208203703+01'00'\",\n",
       " '/Producer': 'iText 2.1.7 by 1T3XT'}"
      ]
     },
     "execution_count": 9,
     "metadata": {},
     "output_type": "execute_result"
    }
   ],
   "source": [
    "get_pdf_metadata(\"Test01.pdf\")"
   ]
  },
  {
   "cell_type": "code",
   "execution_count": 10,
   "metadata": {},
   "outputs": [],
   "source": [
    "### Function to extract text from PDF\n",
    "\n",
    "def extract_text_from_pdf(pdf_path):\n",
    "    with open(pdf_path,\"rb\") as f: \n",
    "        reader = PdfReader(f)\n",
    "        results = []\n",
    "        for i in range(0,len(reader.pages)):\n",
    "            selected_page = reader.pages[i]\n",
    "            text = selected_page.extract_text()\n",
    "            results.append(text)\n",
    "        return ' '.join(results)"
   ]
  },
  {
   "cell_type": "code",
   "execution_count": 11,
   "metadata": {},
   "outputs": [
    {
     "name": "stdout",
     "output_type": "stream",
     "text": [
      "Factuur\n",
      "lidl.nl · Havenstraat 71 · 1271 AD Huizen · Postbus 198\n",
      " \n",
      " \n",
      "Mevrouw Danique De boer\n",
      "Cornelis Groenplantsoen 15\n",
      "1785 BE DEN HELDER\n",
      "NETHERLANDSBesteldatum: /uni00A029-11-2022\n",
      "Factuurdatum: 08-12-2022\n",
      "Leverdatum: 08-12-2022\n",
      "Bestelnummer: /uni00A03354134623\n",
      "Klantnummer: /uni00A01158527523\n",
      "Factuurnummer: 9144527670\n",
      "Klantenservice\n",
      "/uni00A0Ma. - Vr. 8:00 tot 21:00 uur\n",
      "Za./uni00A0- Zo. 9:30 tot 18:00 uur/uni00A0\n",
      "Telefoonnummer: 020-7095039\n",
      "E-mail: shop@lidl.nl\n",
      "Bezoek ons op\n",
      "/uni00A0\n",
      "Pagina/uni00A0 1/uni00A0van/uni00A01\n",
      " \n",
      "Lidl Nederland GmbH, Havenstraat 71, 1271 AD Huizen\n",
      "Postbus 198, 1270 AD Huizen K.v.K. 320.614.46\n",
      "Btw-nummer: NL804079043B01Beste Danique,\n",
      "/uni00A0\n",
      "Hartelijk bedankt voor je bestelling en veel plezier met je aankoop!\n",
      "Onderstaand vind je een specificatie van je bestelling.\n",
      " \n",
      " \n",
      "Levering aan:\n",
      "Mevrouw Danique De boer\n",
      "Cornelis Groenplantsoen 15\n",
      "1785 BE DEN HELDER\n",
      "NETHERLANDS\n",
      " \n",
      "Artikel-\n",
      "nummerArtikelnaam Btw-%AantalPrijs per stuk in\n",
      "EURTotaalbedrag in\n",
      "EUR\n",
      "100344743 LIVARNO home RGB LED-strip - Zigbee\n",
      "Smart Home\n",
      "/uni00A021,0/uni00A0% 2 24,99 49,98\n",
      " Verzendkosten 0,0/uni00A0% 1 0,00 0,00\n",
      "Totaal  /uni00A0 /uni00A0 /uni00A0 49,98\n",
      " \n",
      " \n",
      " Subtotaal (netto) 21% Btw 21% Totaalbedrag Incl. btw\n",
      " EUR 41,31  EUR 8,67  EUR 49,98\n",
      " Reeds betaald met Creditcard\n",
      "    EUR 49,98\n",
      " \n",
      " \n",
      "Met vriendelijke groet,\n",
      "Het Lidl-Team  \n"
     ]
    }
   ],
   "source": [
    "# Extract text from PDF named \"Test01\".\n",
    "# Text is succesfully extracted but not a nice overview. \n",
    "\n",
    "print(extract_text_from_pdf(\"Test01.pdf\"))"
   ]
  },
  {
   "attachments": {},
   "cell_type": "markdown",
   "metadata": {},
   "source": [
    "### Split PDFS\n",
    "\n",
    "* Split into multiple pdfs\n",
    "* Split off the last page\n",
    "* Get PDF upto a particular range\n"
   ]
  },
  {
   "cell_type": "code",
   "execution_count": 12,
   "metadata": {},
   "outputs": [],
   "source": [
    "# Function to split PDF into multiple PDF pages\n",
    "import os\n",
    "def split_pdf(pdf_path):\n",
    "    with open(pdf_path,\"rb\") as f: \n",
    "        reader = PdfReader(f)\n",
    "        # get all pages\n",
    "        for page_num in range(0,len(reader.pages)): #loop through pages\n",
    "            selected_page = reader.pages[page_num]\n",
    "            #writer to write\n",
    "            writer = PdfWriter()\n",
    "            writer.add_page(selected_page)\n",
    "            filename = os.path.splitext(pdf_path)[0]\n",
    "            output_filename = f\"{filename}_{page_num +1}.pdf\"\n",
    "            # save and compile to pdf\n",
    "            with open(output_filename,\"wb\") as out: \n",
    "                writer.write(out)\n",
    "\n",
    "            print(\"created a pdf: {}\".format(output_filename))\n",
    "\n",
    "\n"
   ]
  },
  {
   "cell_type": "code",
   "execution_count": 13,
   "metadata": {},
   "outputs": [
    {
     "name": "stdout",
     "output_type": "stream",
     "text": [
      "created a pdf: Test03_1.pdf\n",
      "created a pdf: Test03_2.pdf\n",
      "created a pdf: Test03_3.pdf\n",
      "created a pdf: Test03_4.pdf\n",
      "created a pdf: Test03_5.pdf\n",
      "created a pdf: Test03_6.pdf\n",
      "created a pdf: Test03_7.pdf\n",
      "created a pdf: Test03_8.pdf\n",
      "created a pdf: Test03_9.pdf\n"
     ]
    }
   ],
   "source": [
    "split_pdf(\"Test03.pdf\")"
   ]
  },
  {
   "attachments": {},
   "cell_type": "markdown",
   "metadata": {},
   "source": [
    "### Merging PDFs\n",
    "\n",
    "* get a list of pdfs\n",
    "* PdfMerger (PdfFileMerger)"
   ]
  },
  {
   "cell_type": "code",
   "execution_count": 14,
   "metadata": {},
   "outputs": [],
   "source": [
    "# Get a list of all PDF files in specified folder\n",
    "\n",
    "def fetch_all_pdf_files(parent_folder: str):\n",
    "    target_files = []\n",
    "    for path,subdirs,files in os.walk(parent_folder):\n",
    "        for name in files: \n",
    "            if name.endswith(\".pdf\"):\n",
    "                target_files.append(os.path.join(path,name))\n",
    "    return target_files\n",
    "\n"
   ]
  },
  {
   "cell_type": "code",
   "execution_count": 15,
   "metadata": {},
   "outputs": [
    {
     "data": {
      "text/plain": [
       "['./Input_folder/Test01.pdf',\n",
       " './Input_folder/Test02.pdf',\n",
       " './Input_folder/Test03.pdf']"
      ]
     },
     "execution_count": 15,
     "metadata": {},
     "output_type": "execute_result"
    }
   ],
   "source": [
    "# Example of calling \"fetch_all_pdf_files\" function\n",
    "\n",
    "fetch_all_pdf_files(\"./Input_folder/\")"
   ]
  },
  {
   "cell_type": "code",
   "execution_count": 16,
   "metadata": {},
   "outputs": [],
   "source": [
    "from PyPDF2 import PdfMerger"
   ]
  },
  {
   "cell_type": "code",
   "execution_count": 17,
   "metadata": {},
   "outputs": [],
   "source": [
    "def merge_pdf(list_of_pdfs,output_filename=\"final_merged_file.pdf\"):\n",
    "    merger = PdfMerger()\n",
    "    with open(output_filename,\"wb\") as f:\n",
    "        for file in list_of_pdfs:\n",
    "            merger.append(file)\n",
    "        merger.write(f)\n",
    "        "
   ]
  },
  {
   "cell_type": "code",
   "execution_count": 18,
   "metadata": {},
   "outputs": [],
   "source": [
    "pdf_list = fetch_all_pdf_files(\"./Input_folder/\")"
   ]
  },
  {
   "cell_type": "code",
   "execution_count": 19,
   "metadata": {},
   "outputs": [],
   "source": [
    "merge_pdf(pdf_list)"
   ]
  },
  {
   "cell_type": "code",
   "execution_count": null,
   "metadata": {},
   "outputs": [],
   "source": []
  }
 ],
 "metadata": {
  "kernelspec": {
   "display_name": "Python 3 (ipykernel)",
   "language": "python",
   "name": "python3"
  },
  "language_info": {
   "codemirror_mode": {
    "name": "ipython",
    "version": 3
   },
   "file_extension": ".py",
   "mimetype": "text/x-python",
   "name": "python",
   "nbconvert_exporter": "python",
   "pygments_lexer": "ipython3",
   "version": "3.10.11"
  }
 },
 "nbformat": 4,
 "nbformat_minor": 2
}
